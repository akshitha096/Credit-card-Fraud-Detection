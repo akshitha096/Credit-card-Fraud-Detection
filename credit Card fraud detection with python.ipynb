{
 "cells": [
  {
   "cell_type": "code",
   "execution_count": 44,
   "id": "b768d6c7-df69-4aa0-a6ba-11f4439f81ea",
   "metadata": {},
   "outputs": [],
   "source": [
    "#Credit Card fraud Detection with python"
   ]
  },
  {
   "cell_type": "code",
   "execution_count": 38,
   "id": "a9add561-683c-40d4-ae0f-d51d5f28f9ae",
   "metadata": {},
   "outputs": [],
   "source": [
    "import pandas as pd\n",
    "import numpy as np\n",
    "import seaborn as sns\n",
    "import matplotlib.pyplot as plt\n",
    "from sklearn.model_selection import train_test_split\n",
    "from sklearn.linear_model import LogisticRegression\n",
    "from sklearn.tree import DecisionTreeClassifier\n",
    "from sklearn.ensemble import IsolationForest\n",
    "from sklearn import metrics\n",
    "from sklearn.ensemble import RandomForestClassifier\n",
    "from sklearn.metrics import classification_report, confusion_matrix, accuracy_score\n"
   ]
  },
  {
   "cell_type": "code",
   "execution_count": 8,
   "id": "34ffc7a0-ff25-4ba6-a6de-c3956c558c18",
   "metadata": {},
   "outputs": [
    {
     "name": "stdout",
     "output_type": "stream",
     "text": [
      "INFORMATION ABOUT THE DATA SET\n",
      "<class 'pandas.core.frame.DataFrame'>\n",
      "RangeIndex: 284807 entries, 0 to 284806\n",
      "Data columns (total 31 columns):\n",
      " #   Column  Non-Null Count   Dtype  \n",
      "---  ------  --------------   -----  \n",
      " 0   Time    284807 non-null  float64\n",
      " 1   V1      284807 non-null  float64\n",
      " 2   V2      284807 non-null  float64\n",
      " 3   V3      284807 non-null  float64\n",
      " 4   V4      284807 non-null  float64\n",
      " 5   V5      284807 non-null  float64\n",
      " 6   V6      284807 non-null  float64\n",
      " 7   V7      284807 non-null  float64\n",
      " 8   V8      284807 non-null  float64\n",
      " 9   V9      284807 non-null  float64\n",
      " 10  V10     284807 non-null  float64\n",
      " 11  V11     284807 non-null  float64\n",
      " 12  V12     284807 non-null  float64\n",
      " 13  V13     284807 non-null  float64\n",
      " 14  V14     284807 non-null  float64\n",
      " 15  V15     284807 non-null  float64\n",
      " 16  V16     284807 non-null  float64\n",
      " 17  V17     284807 non-null  float64\n",
      " 18  V18     284807 non-null  float64\n",
      " 19  V19     284807 non-null  float64\n",
      " 20  V20     284807 non-null  float64\n",
      " 21  V21     284807 non-null  float64\n",
      " 22  V22     284807 non-null  float64\n",
      " 23  V23     284807 non-null  float64\n",
      " 24  V24     284807 non-null  float64\n",
      " 25  V25     284807 non-null  float64\n",
      " 26  V26     284807 non-null  float64\n",
      " 27  V27     284807 non-null  float64\n",
      " 28  V28     284807 non-null  float64\n",
      " 29  Amount  284807 non-null  float64\n",
      " 30  Class   284807 non-null  int64  \n",
      "dtypes: float64(30), int64(1)\n",
      "memory usage: 67.4 MB\n",
      "None\n",
      " DESCRIPTION ABOUT THE DATA\n",
      "                Time            V1            V2            V3            V4  \\\n",
      "count  284807.000000  2.848070e+05  2.848070e+05  2.848070e+05  2.848070e+05   \n",
      "mean    94813.859575  1.168375e-15  3.416908e-16 -1.379537e-15  2.074095e-15   \n",
      "std     47488.145955  1.958696e+00  1.651309e+00  1.516255e+00  1.415869e+00   \n",
      "min         0.000000 -5.640751e+01 -7.271573e+01 -4.832559e+01 -5.683171e+00   \n",
      "25%     54201.500000 -9.203734e-01 -5.985499e-01 -8.903648e-01 -8.486401e-01   \n",
      "50%     84692.000000  1.810880e-02  6.548556e-02  1.798463e-01 -1.984653e-02   \n",
      "75%    139320.500000  1.315642e+00  8.037239e-01  1.027196e+00  7.433413e-01   \n",
      "max    172792.000000  2.454930e+00  2.205773e+01  9.382558e+00  1.687534e+01   \n",
      "\n",
      "                 V5            V6            V7            V8            V9  \\\n",
      "count  2.848070e+05  2.848070e+05  2.848070e+05  2.848070e+05  2.848070e+05   \n",
      "mean   9.604066e-16  1.487313e-15 -5.556467e-16  1.213481e-16 -2.406331e-15   \n",
      "std    1.380247e+00  1.332271e+00  1.237094e+00  1.194353e+00  1.098632e+00   \n",
      "min   -1.137433e+02 -2.616051e+01 -4.355724e+01 -7.321672e+01 -1.343407e+01   \n",
      "25%   -6.915971e-01 -7.682956e-01 -5.540759e-01 -2.086297e-01 -6.430976e-01   \n",
      "50%   -5.433583e-02 -2.741871e-01  4.010308e-02  2.235804e-02 -5.142873e-02   \n",
      "75%    6.119264e-01  3.985649e-01  5.704361e-01  3.273459e-01  5.971390e-01   \n",
      "max    3.480167e+01  7.330163e+01  1.205895e+02  2.000721e+01  1.559499e+01   \n",
      "\n",
      "       ...           V21           V22           V23           V24  \\\n",
      "count  ...  2.848070e+05  2.848070e+05  2.848070e+05  2.848070e+05   \n",
      "mean   ...  1.654067e-16 -3.568593e-16  2.578648e-16  4.473266e-15   \n",
      "std    ...  7.345240e-01  7.257016e-01  6.244603e-01  6.056471e-01   \n",
      "min    ... -3.483038e+01 -1.093314e+01 -4.480774e+01 -2.836627e+00   \n",
      "25%    ... -2.283949e-01 -5.423504e-01 -1.618463e-01 -3.545861e-01   \n",
      "50%    ... -2.945017e-02  6.781943e-03 -1.119293e-02  4.097606e-02   \n",
      "75%    ...  1.863772e-01  5.285536e-01  1.476421e-01  4.395266e-01   \n",
      "max    ...  2.720284e+01  1.050309e+01  2.252841e+01  4.584549e+00   \n",
      "\n",
      "                V25           V26           V27           V28         Amount  \\\n",
      "count  2.848070e+05  2.848070e+05  2.848070e+05  2.848070e+05  284807.000000   \n",
      "mean   5.340915e-16  1.683437e-15 -3.660091e-16 -1.227390e-16      88.349619   \n",
      "std    5.212781e-01  4.822270e-01  4.036325e-01  3.300833e-01     250.120109   \n",
      "min   -1.029540e+01 -2.604551e+00 -2.256568e+01 -1.543008e+01       0.000000   \n",
      "25%   -3.171451e-01 -3.269839e-01 -7.083953e-02 -5.295979e-02       5.600000   \n",
      "50%    1.659350e-02 -5.213911e-02  1.342146e-03  1.124383e-02      22.000000   \n",
      "75%    3.507156e-01  2.409522e-01  9.104512e-02  7.827995e-02      77.165000   \n",
      "max    7.519589e+00  3.517346e+00  3.161220e+01  3.384781e+01   25691.160000   \n",
      "\n",
      "               Class  \n",
      "count  284807.000000  \n",
      "mean        0.001727  \n",
      "std         0.041527  \n",
      "min         0.000000  \n",
      "25%         0.000000  \n",
      "50%         0.000000  \n",
      "75%         0.000000  \n",
      "max         1.000000  \n",
      "\n",
      "[8 rows x 31 columns]\n",
      "(284807, 31)\n"
     ]
    }
   ],
   "source": [
    "ccdata = pd.read_csv(\"creditcard.csv\")\n",
    "print(\"INFORMATION ABOUT THE DATA SET\")\n",
    "print(ccdata.info())\n",
    "print(\" DESCRIPTION ABOUT THE DATA\")\n",
    "print(ccdata.describe())\n",
    "print(ccdata.shape)"
   ]
  },
  {
   "cell_type": "code",
   "execution_count": 10,
   "id": "7f84a103-61e6-4d4d-a2a1-60faf0b94c31",
   "metadata": {},
   "outputs": [
    {
     "data": {
      "text/plain": [
       "Time      0\n",
       "V1        0\n",
       "V2        0\n",
       "V3        0\n",
       "V4        0\n",
       "V5        0\n",
       "V6        0\n",
       "V7        0\n",
       "V8        0\n",
       "V9        0\n",
       "V10       0\n",
       "V11       0\n",
       "V12       0\n",
       "V13       0\n",
       "V14       0\n",
       "V15       0\n",
       "V16       0\n",
       "V17       0\n",
       "V18       0\n",
       "V19       0\n",
       "V20       0\n",
       "V21       0\n",
       "V22       0\n",
       "V23       0\n",
       "V24       0\n",
       "V25       0\n",
       "V26       0\n",
       "V27       0\n",
       "V28       0\n",
       "Amount    0\n",
       "Class     0\n",
       "dtype: int64"
      ]
     },
     "execution_count": 10,
     "metadata": {},
     "output_type": "execute_result"
    }
   ],
   "source": [
    "#checking whethere dataset contain any null value in it \n",
    "ccdata.isnull().sum()"
   ]
  },
  {
   "cell_type": "code",
   "execution_count": 12,
   "id": "618b921d-1db2-4f9f-8d08-59c92feccbc9",
   "metadata": {},
   "outputs": [
    {
     "name": "stdout",
     "output_type": "stream",
     "text": [
      "   Time        V1        V2        V3        V4        V5        V6        V7  \\\n",
      "0   0.0 -1.359807 -0.072781  2.536347  1.378155 -0.338321  0.462388  0.239599   \n",
      "1   0.0  1.191857  0.266151  0.166480  0.448154  0.060018 -0.082361 -0.078803   \n",
      "2   1.0 -1.358354 -1.340163  1.773209  0.379780 -0.503198  1.800499  0.791461   \n",
      "\n",
      "         V8        V9  ...       V21       V22       V23       V24       V25  \\\n",
      "0  0.098698  0.363787  ... -0.018307  0.277838 -0.110474  0.066928  0.128539   \n",
      "1  0.085102 -0.255425  ... -0.225775 -0.638672  0.101288 -0.339846  0.167170   \n",
      "2  0.247676 -1.514654  ...  0.247998  0.771679  0.909412 -0.689281 -0.327642   \n",
      "\n",
      "        V26       V27       V28  Amount  Class  \n",
      "0 -0.189115  0.133558 -0.021053  149.62      0  \n",
      "1  0.125895 -0.008983  0.014724    2.69      0  \n",
      "2 -0.139097 -0.055353 -0.059752  378.66      0  \n",
      "\n",
      "[3 rows x 31 columns]\n",
      "        Time        V1        V2        V3        V4        V5        V6  \\\n",
      "541    406.0 -2.312227  1.951992 -1.609851  3.997906 -0.522188 -1.426545   \n",
      "623    472.0 -3.043541 -3.157307  1.088463  2.288644  1.359805 -1.064823   \n",
      "4920  4462.0 -2.303350  1.759247 -0.359745  2.330243 -0.821628 -0.075788   \n",
      "\n",
      "            V7        V8        V9  ...       V21       V22       V23  \\\n",
      "541  -2.537387  1.391657 -2.770089  ...  0.517232 -0.035049 -0.465211   \n",
      "623   0.325574 -0.067794 -0.270953  ...  0.661696  0.435477  1.375966   \n",
      "4920  0.562320 -0.399147 -0.238253  ... -0.294166 -0.932391  0.172726   \n",
      "\n",
      "           V24       V25       V26       V27       V28  Amount  Class  \n",
      "541   0.320198  0.044519  0.177840  0.261145 -0.143276    0.00      1  \n",
      "623  -0.293803  0.279798 -0.145362 -0.252773  0.035764  529.00      1  \n",
      "4920 -0.087330 -0.156114 -0.542628  0.039566 -0.153029  239.93      1  \n",
      "\n",
      "[3 rows x 31 columns]\n"
     ]
    }
   ],
   "source": [
    "normal_data = ccdata[ccdata[\"Class\"]==0]\n",
    "fraud_data = ccdata[ccdata[\"Class\"]==1]\n",
    "print(normal_data.head(3))\n",
    "print(fraud_data.head(3))\n",
    "Labels = [\"normal_data\",\"fraud_data\"]"
   ]
  },
  {
   "cell_type": "code",
   "execution_count": 14,
   "id": "134fe162-9f9e-4a64-be77-ad3f3b9e1970",
   "metadata": {},
   "outputs": [],
   "source": [
    "# Data Analysing"
   ]
  },
  {
   "cell_type": "code",
   "execution_count": 16,
   "id": "679310dd-309b-4fda-bc1b-4da925e04598",
   "metadata": {},
   "outputs": [
    {
     "name": "stderr",
     "output_type": "stream",
     "text": [
      "C:\\Users\\AISHWARYA\\AppData\\Local\\Temp\\ipykernel_12732\\2034640699.py:2: FutureWarning: pandas.value_counts is deprecated and will be removed in a future version. Use pd.Series(obj).value_counts() instead.\n",
      "  class_count = pd.value_counts(ccdata[\"Class\"], sort =True)\n"
     ]
    },
    {
     "data": {
      "image/png": "[encoded data removed]",
      "text/plain": [
       "<Figure size 640x480 with 1 Axes>"
      ]
     },
     "metadata": {},
     "output_type": "display_data"
    }
   ],
   "source": [
    "#visualizing the normal data and fruad using the bar chat \n",
    "class_count = pd.value_counts(ccdata[\"Class\"], sort =True)\n",
    "class_count.plot(kind=\"bar\", rot=0)\n",
    "plt.xticks(range(2),Labels)\n",
    "plt.title(\"Transaction Data Distribution\")\n",
    "plt.xlabel(\"Class\")\n",
    "plt.ylabel(\"Frequency\")\n",
    "plt.show()\n"
   ]
  },
  {
   "cell_type": "code",
   "execution_count": 18,
   "id": "f0c22224-092f-4022-9d2a-d22fd42f60e9",
   "metadata": {},
   "outputs": [],
   "source": [
    "# Data Preprocessing"
   ]
  },
  {
   "cell_type": "code",
   "execution_count": 20,
   "id": "60a7e262-fe3a-4f43-b20d-6879bd0d26a2",
   "metadata": {},
   "outputs": [
    {
     "name": "stdout",
     "output_type": "stream",
     "text": [
      "(28481, 31)\n",
      "count    28442.000000\n",
      "mean        89.213563\n",
      "std        234.093267\n",
      "min          0.000000\n",
      "25%          5.900000\n",
      "50%         22.415000\n",
      "75%         79.000000\n",
      "max       6900.470000\n",
      "Name: Amount, dtype: float64\n",
      "count      39.000000\n",
      "mean      117.654872\n",
      "std       249.152491\n",
      "min         0.000000\n",
      "25%         1.000000\n",
      "50%        19.590000\n",
      "75%        99.990000\n",
      "max      1335.000000\n",
      "Name: Amount, dtype: float64\n"
     ]
    },
    {
     "name": "stderr",
     "output_type": "stream",
     "text": [
      "C:\\Users\\AISHWARYA\\AppData\\Local\\Temp\\ipykernel_12732\\3775058306.py:3: UserWarning: Boolean Series key will be reindexed to match DataFrame index.\n",
      "  new_normal_data = ccdata1[ccdata[\"Class\"]==0]\n",
      "C:\\Users\\AISHWARYA\\AppData\\Local\\Temp\\ipykernel_12732\\3775058306.py:5: UserWarning: Boolean Series key will be reindexed to match DataFrame index.\n",
      "  new_fraud_data = ccdata1[ccdata[\"Class\"]==1]\n"
     ]
    }
   ],
   "source": [
    "ccdata1 = ccdata.sample(frac=0.1, random_state=2)\n",
    "print(ccdata1.shape)\n",
    "new_normal_data = ccdata1[ccdata[\"Class\"]==0]\n",
    "print(new_normal_data.Amount.describe())\n",
    "new_fraud_data = ccdata1[ccdata[\"Class\"]==1]\n",
    "print(new_fraud_data.Amount.describe())\n"
   ]
  },
  {
   "cell_type": "code",
   "execution_count": 22,
   "id": "40df6bab-e564-4776-a95e-6a1bd19017d4",
   "metadata": {},
   "outputs": [
    {
     "name": "stderr",
     "output_type": "stream",
     "text": [
      "C:\\Users\\AISHWARYA\\AppData\\Local\\Temp\\ipykernel_12732\\1930465002.py:3: FutureWarning: pandas.value_counts is deprecated and will be removed in a future version. Use pd.Series(obj).value_counts() instead.\n",
      "  class_count1 = pd.value_counts(ccdata1[\"Class\"], sort =True)\n"
     ]
    },
    {
     "data": {
      "image/png": "[encoded data removed]",
      "text/plain": [
       "<Figure size 640x480 with 1 Axes>"
      ]
     },
     "metadata": {},
     "output_type": "display_data"
    }
   ],
   "source": [
    "#visualizing the sample data \n",
    "Labels1 = [\"normal_data\",\"fraud_data\"]\n",
    "class_count1 = pd.value_counts(ccdata1[\"Class\"], sort =True)\n",
    "class_count1.plot(kind=\"bar\", rot=0)\n",
    "plt.xticks(range(2),Labels1)\n",
    "plt.title(\"Transaction Data Distribution\")\n",
    "plt.xlabel(\"Class\")\n",
    "plt.ylabel(\"Frequency\")\n",
    "plt.show()"
   ]
  },
  {
   "cell_type": "code",
   "execution_count": 24,
   "id": "3bee92c4-a888-42f8-ae30-d5d90d1f93e1",
   "metadata": {},
   "outputs": [
    {
     "name": "stdout",
     "output_type": "stream",
     "text": [
      "            Time        V1        V2        V3        V4        V5        V6  \\\n",
      "225184  144140.0 -0.581460  0.950267  0.115938 -1.384767  1.388364 -1.595678   \n",
      "116637   74369.0  0.686730 -0.785586  0.945092  1.476634 -1.191074 -0.193185   \n",
      "99414    67107.0 -0.848395  1.214313  0.954869 -0.030145 -0.177527 -0.851855   \n",
      "217619  140965.0 -1.104465  0.616952 -0.878973 -0.312839 -0.092112 -0.020623   \n",
      "279878  169155.0  2.061985 -0.114758 -1.079406  0.427062 -0.229701 -1.241109   \n",
      "...          ...       ...       ...       ...       ...       ...       ...   \n",
      "127873   78502.0  1.453030 -1.070431  0.540073 -1.396774 -1.516549 -0.679109   \n",
      "165338  117364.0  2.297019 -0.695686 -3.856079 -1.984919  2.663435  2.575788   \n",
      "277161  167496.0 -0.320339  1.294348 -0.922355 -0.831416  0.984983 -0.257539   \n",
      "3391      2920.0 -0.420869  0.636084  0.966402 -2.281050  0.614989 -0.511806   \n",
      "15091    26438.0 -0.730156  0.663608  2.517347  0.083831  0.096398  0.002281   \n",
      "\n",
      "              V7        V8        V9  ...       V20       V21       V22  \\\n",
      "225184  2.120867 -0.718954 -0.205211  ... -0.292792  0.153480  0.656548   \n",
      "116637 -0.217963 -0.011827  0.727172  ...  0.388521  0.277960  0.419683   \n",
      "99414   0.444232  0.369063 -1.005181  ...  0.079630  0.205928  0.552455   \n",
      "217619  1.422463  0.442278 -0.406603  ...  0.511897  0.265005  0.438796   \n",
      "279878  0.121975 -0.283331  0.679923  ... -0.284520 -0.299538 -0.772333   \n",
      "...          ...       ...       ...  ...       ...       ...       ...   \n",
      "127873 -0.987134 -0.201703 -1.823422  ... -0.188818 -0.361101 -0.741406   \n",
      "165338 -0.153603  0.394348 -1.215374  ... -0.009252  0.471829  1.353890   \n",
      "277161  0.655941  0.314682 -0.036018  ...  0.105179 -0.371038 -0.863362   \n",
      "3391    1.015580 -0.161080  0.527004  ...  0.047823  0.123204  0.756728   \n",
      "15091   0.679229 -0.085921  0.262331  ... -0.015227  0.073600  0.502584   \n",
      "\n",
      "             V23       V24       V25       V26       V27       V28  Amount  \n",
      "225184 -0.514192  0.077220  0.736220 -0.302469 -0.254862 -0.126279   12.82  \n",
      "116637 -0.314303  0.427369  0.426733 -0.285560  0.022906  0.079838  256.39  \n",
      "99414  -0.064845  0.590082 -0.271787  0.276440  0.217840  0.127724   16.44  \n",
      "217619  0.413781  0.649776 -0.082746  0.520578  0.151103  0.216899  270.00  \n",
      "279878  0.352777  0.021161 -0.330437  0.198512 -0.076625 -0.061905    1.29  \n",
      "...          ...       ...       ...       ...       ...       ...     ...  \n",
      "127873  0.092837  0.000359  0.188433 -0.394537  0.039679  0.034499   52.07  \n",
      "165338 -0.184111  0.805863  0.805671  0.321542 -0.074649 -0.100687    5.00  \n",
      "277161  0.041269 -0.028379 -0.345465  0.108379  0.033437 -0.159252    1.98  \n",
      "3391   -0.324672 -0.290652  0.028632 -0.808328  0.253938 -0.029664    1.00  \n",
      "15091  -0.498499  0.056921  0.696377 -0.311409 -0.093246 -0.154770   19.88  \n",
      "\n",
      "[28481 rows x 30 columns]\n",
      "225184    0\n",
      "116637    0\n",
      "99414     0\n",
      "217619    0\n",
      "279878    0\n",
      "         ..\n",
      "127873    0\n",
      "165338    0\n",
      "277161    0\n",
      "3391      0\n",
      "15091     0\n",
      "Name: Class, Length: 28481, dtype: int64\n"
     ]
    }
   ],
   "source": [
    "#defining X and Y for train and test split \n",
    "X=ccdata1.drop([\"Class\"],axis=1)\n",
    "X.shape\n",
    "y=ccdata1[\"Class\"]\n",
    "y\n",
    "print(X)\n",
    "print(y)"
   ]
  },
  {
   "cell_type": "code",
   "execution_count": 26,
   "id": "162d83bd-6a6a-44b7-9cc3-2c4eaaf1085d",
   "metadata": {},
   "outputs": [
    {
     "name": "stdout",
     "output_type": "stream",
     "text": [
      "            Time        V1        V2        V3        V4        V5        V6  \\\n",
      "241600  151092.0  0.050566  0.911121 -0.472633 -0.186083  0.962961 -0.264166   \n",
      "135091   81104.0  1.188785  0.339159  0.274043  1.068503 -0.037511 -0.481178   \n",
      "166027  117817.0  2.045327  0.074602 -2.056365  0.388115  0.472078 -1.088136   \n",
      "248315  153887.0 -0.422932  1.693113 -1.266423 -0.075234  0.236511 -1.344582   \n",
      "190628  128913.0  2.041393 -1.692932 -0.403631 -1.376681 -1.753600 -0.775670   \n",
      "...          ...       ...       ...       ...       ...       ...       ...   \n",
      "205306  135682.0  1.994168  0.464542 -2.395714  1.471247  1.049269 -0.885607   \n",
      "9752     14483.0  1.179929 -0.071517  0.805718  0.035181 -0.648756 -0.325059   \n",
      "56441    47427.0 -1.777496 -0.838617  1.805236 -1.286026 -0.292888 -1.289007   \n",
      "234855  148145.0  0.082324  0.938237 -0.344531 -0.630135  0.896265 -0.513362   \n",
      "70166    53741.0  0.998215 -0.659059  1.021522  0.268321 -1.067500  0.124144   \n",
      "\n",
      "              V7        V8        V9  ...       V20       V21       V22  \\\n",
      "241600  0.754599  0.040328  0.526640  ...  0.013454  0.019885  0.402661   \n",
      "135091  0.189757 -0.130230 -0.111891  ... -0.124164  0.065990  0.286347   \n",
      "166027  0.290584 -0.346509  0.666488  ... -0.125592  0.164348  0.570275   \n",
      "248315  0.349337  0.446406 -0.561035  ... -0.278783  0.414701  1.100828   \n",
      "190628 -1.127202 -0.252775 -1.153223  ... -0.129485 -0.321044 -0.648678   \n",
      "...          ...       ...       ...  ...       ...       ...       ...   \n",
      "205306  0.707859 -0.339416  0.111444  ... -0.167856 -0.031365  0.072493   \n",
      "9752   -0.526962  0.069627  1.523994  ... -0.182257 -0.199208 -0.360839   \n",
      "56441  -0.871559  0.504158 -1.102850  ...  0.298071  0.362312  0.425311   \n",
      "234855  0.823978  0.083804 -0.238211  ... -0.011715 -0.281545 -0.719272   \n",
      "70166  -0.589548  0.150250  1.138797  ...  0.092427 -0.148852 -0.316341   \n",
      "\n",
      "             V23       V24       V25       V26       V27       V28  Amount  \n",
      "241600 -0.270302  0.181284  0.070447 -0.120086  0.350937  0.150087    5.90  \n",
      "135091 -0.082376  0.103120  0.632427 -0.301423  0.032858  0.019387   10.99  \n",
      "166027 -0.140746 -0.782815  0.335126 -0.059786 -0.010878 -0.033296   36.99  \n",
      "248315 -0.110403 -0.120951 -0.290882 -0.160871 -0.250403 -0.021316    1.50  \n",
      "190628  0.353185  0.012443 -0.615423 -0.502337  0.023879 -0.012165  128.90  \n",
      "...          ...       ...       ...       ...       ...       ...     ...  \n",
      "205306 -0.026983  0.483978  0.492319 -0.517863 -0.004825 -0.019104   30.55  \n",
      "9752    0.157930  0.191269 -0.064150  0.868377 -0.090196 -0.009855    4.90  \n",
      "56441  -0.309051  0.424630  0.523084 -0.234625 -0.065089 -0.186341   17.00  \n",
      "234855  0.112752  0.586874 -0.499631  0.094062  0.218182  0.073854    3.56  \n",
      "70166   0.028162  0.174961  0.042916  0.961272 -0.031633  0.027108   96.69  \n",
      "\n",
      "[22784 rows x 30 columns]\n",
      "241600    0\n",
      "135091    0\n",
      "166027    0\n",
      "248315    0\n",
      "190628    0\n",
      "         ..\n",
      "205306    0\n",
      "9752      0\n",
      "56441     0\n",
      "234855    0\n",
      "70166     0\n",
      "Name: Class, Length: 22784, dtype: int64\n"
     ]
    }
   ],
   "source": [
    "X_train,X_test,y_train,y_test= train_test_split(X,y,test_size=0.2,random_state=42)\n",
    "print(X_train)\n",
    "print(y_train)"
   ]
  },
  {
   "cell_type": "code",
   "execution_count": 28,
   "id": "d514774f-f5a7-4662-84cd-9104e0c0de64",
   "metadata": {},
   "outputs": [
    {
     "name": "stdout",
     "output_type": "stream",
     "text": [
      "outlier_fraction :  0.0013712115884958864\n",
      " Number of Fraud cases : 39\n",
      " Number of Valid cases : 28442\n"
     ]
    }
   ],
   "source": [
    "# definig outlier fraction for the usage of isolation forest\n",
    "outlier_fraction = len(new_fraud_data)/float(len(new_normal_data))\n",
    "print(\"outlier_fraction : \",outlier_fraction)\n",
    "print(\" Number of Fraud cases : {}\".format(len(new_fraud_data)))\n",
    "print(\" Number of Valid cases : {}\".format(len(new_normal_data)))\n"
   ]
  },
  {
   "cell_type": "code",
   "execution_count": 36,
   "id": "8620099e-b7e5-4dbb-9485-69cb1646aee1",
   "metadata": {},
   "outputs": [
    {
     "name": "stdout",
     "output_type": "stream",
     "text": [
      "            Time        V1        V2        V3        V4        V5        V6  \\\n",
      "259734  159248.0  2.009233  0.134929 -1.719846  0.412710  0.372335 -0.879987   \n",
      "126981   78168.0  1.303345  0.326268 -0.162746  1.172043  0.212267 -0.394796   \n",
      "238613  149743.0  2.079286 -0.005002 -2.032459 -0.024342  0.354048 -1.508465   \n",
      "91401    63452.0 -0.888749  1.457758  2.138158  2.681105 -0.214845  1.390949   \n",
      "147936   89175.0  2.066109  0.222716 -1.673811  0.405819  0.523276 -0.786737   \n",
      "...          ...       ...       ...       ...       ...       ...       ...   \n",
      "234845  148140.0 -0.033277  1.085379 -0.983018 -1.172865  1.540958 -1.376202   \n",
      "142883   84996.0 -0.683185  0.318044  1.253572 -0.619177 -0.117377  1.421855   \n",
      "50103    44348.0 -0.356236  1.088176  1.181898 -0.133526  0.256354 -0.468200   \n",
      "137477   82176.0  0.366622  0.752213  0.644347  0.228971  0.847522  0.023902   \n",
      "8307     11088.0  1.197748  0.274781  0.088700  1.203128  0.614772  0.879713   \n",
      "\n",
      "              V7        V8        V9  ...       V20       V21       V22  \\\n",
      "259734  0.190346 -0.163338  0.498805  ... -0.192843 -0.296008 -0.738171   \n",
      "126981  0.274116 -0.165632  0.158607  ... -0.165289 -0.095209 -0.116633   \n",
      "238613  0.608366 -0.379957  0.139402  ... -0.334932  0.194141  0.622446   \n",
      "91401  -0.490899  0.871025 -1.002667  ...  0.208534  0.137159  0.588201   \n",
      "147936  0.237349 -0.267788  0.342512  ... -0.101167 -0.346204 -0.836164   \n",
      "...          ...       ...       ...  ...       ...       ...       ...   \n",
      "234845  1.802624 -0.538362 -0.545485  ...  0.067555  0.227885  0.898387   \n",
      "142883 -1.182254 -2.287845 -0.488407  ...  0.864637 -1.225736  0.147587   \n",
      "50103   0.608542  0.088194 -0.649931  ...  0.139289 -0.233321 -0.627183   \n",
      "137477  0.848602 -0.445227  0.079248  ...  0.101548 -0.220843 -0.256220   \n",
      "8307   -0.096264  0.083582  1.285358  ... -0.127393 -0.265926 -0.288402   \n",
      "\n",
      "             V23       V24       V25       V26       V27       V28  Amount  \n",
      "259734  0.210373 -0.551313 -0.102266 -0.578470 -0.002480 -0.035733    9.99  \n",
      "126981 -0.245136 -0.448182  0.941460 -0.207284  0.006606  0.004143    1.00  \n",
      "238613 -0.018536  0.040610  0.338080  0.225582 -0.094702 -0.092041    0.77  \n",
      "91401  -0.340480 -0.729684  0.231622  0.491640  0.264114  0.086644    0.76  \n",
      "147936  0.338108  0.535358 -0.242997  0.172080 -0.052997 -0.028749    1.29  \n",
      "...          ...       ...       ...       ...       ...       ...     ...  \n",
      "234845 -0.309097 -0.567566 -0.166506  0.124351  0.396270  0.266742   15.41  \n",
      "142883 -0.383490 -1.120999  1.150326  0.478094 -0.042703  0.168681  127.48  \n",
      "50103  -0.072905 -0.044656 -0.143651  0.074407  0.242738  0.084874    1.98  \n",
      "137477  0.127740 -0.809552 -1.440037 -0.030639 -0.267444 -0.271676    1.98  \n",
      "8307   -0.220341 -1.169317  0.788648 -0.299414  0.011580 -0.009934   13.56  \n",
      "\n",
      "[5697 rows x 30 columns]\n"
     ]
    }
   ],
   "source": [
    "#modeling the dataset\n",
    "model=IsolationForest(n_estimators=50, max_samples='auto', contamination=outlier_fraction,max_features=1.0)\n",
    "model.fit(X)\n",
    " \n",
    " #Predictions on the test data\n",
    "pred_y = model.predict(X)\n",
    "# Reshaping the values\n",
    "pred_y[pred_y == 1] = 0\n",
    "pred_y[pred_y == -1] = 1\n",
    "n_errors = (pred_y != y).sum()\n",
    "print(X_test)"
   ]
  },
  {
   "cell_type": "code",
   "execution_count": 42,
   "id": "614615b3-aea2-4076-aca8-b606f3fbce3e",
   "metadata": {},
   "outputs": [],
   "source": [
    "# Results"
   ]
  },
  {
   "cell_type": "code",
   "execution_count": 40,
   "id": "756d67d5-35c8-4e6f-88e6-78d9857b440a",
   "metadata": {},
   "outputs": [
    {
     "name": "stdout",
     "output_type": "stream",
     "text": [
      " ISOLATION FOREST : 53\n",
      "Accuracy is : 0.998139110284049\n",
      " AUC Score is  0.6620429133996695\n",
      "Classification Report :\n",
      "              precision    recall  f1-score   support\n",
      "\n",
      "           0       1.00      1.00      1.00     28441\n",
      "           1       0.33      0.33      0.33        40\n",
      "\n",
      "    accuracy                           1.00     28481\n",
      "   macro avg       0.67      0.66      0.66     28481\n",
      "weighted avg       1.00      1.00      1.00     28481\n",
      "\n"
     ]
    }
   ],
   "source": [
    "#OBTAINED RESULTS \n",
    "print(\" ISOLATION FOREST :\",n_errors)\n",
    "print(\"Accuracy is :\", metrics.accuracy_score(pred_y,y))\n",
    "print(\" AUC Score is \",metrics.roc_auc_score(pred_y,y))                                          \n",
    "print(\"Classification Report :\")\n",
    "print(metrics.classification_report(pred_y,y))"
   ]
  },
  {
   "cell_type": "code",
   "execution_count": null,
   "id": "cd899e73-be27-47b3-b54b-34e1cfa9f235",
   "metadata": {},
   "outputs": [],
   "source": []
  }
 ],
 "metadata": {
  "kernelspec": {
   "display_name": "Python 3 (ipykernel)",
   "language": "python",
   "name": "python3"
  },
  "language_info": {
   "codemirror_mode": {
    "name": "ipython",
    "version": 3
   },
   "file_extension": ".py",
   "mimetype": "text/x-python",
   "name": "python",
   "nbconvert_exporter": "python",
   "pygments_lexer": "ipython3",
   "version": "3.12.4"
  }
 },
 "nbformat": 4,
 "nbformat_minor": 5
}
